{
 "cells": [
  {
   "cell_type": "code",
   "execution_count": 1,
   "id": "1b018231-20b0-4c0c-be09-2537ba71ef5c",
   "metadata": {},
   "outputs": [],
   "source": [
    "from IPython.display import clear_output\n",
    "from time import sleep\n",
    "import random\n",
    "import gym\n",
    "import numpy as np"
   ]
  },
  {
   "cell_type": "code",
   "execution_count": 2,
   "id": "d7b1b6bf-e6b2-43d2-a875-a76731355dfa",
   "metadata": {},
   "outputs": [
    {
     "data": {
      "text/plain": [
       "349"
      ]
     },
     "execution_count": 2,
     "metadata": {},
     "output_type": "execute_result"
    }
   ],
   "source": [
    "random.seed(1234)\n",
    "metadata = {\"render_modes\": [\"human\",\"ansi\"]}\n",
    "streets = gym.make(\"Taxi-v3\")\n",
    "streets.reset()"
   ]
  },
  {
   "cell_type": "code",
   "execution_count": 3,
   "id": "55f1c088-f881-4be7-ba50-858f14b7bfce",
   "metadata": {},
   "outputs": [],
   "source": [
    "initial_state = streets.encode(2,3,2,0)"
   ]
  },
  {
   "cell_type": "code",
   "execution_count": 4,
   "id": "c0620b34-1786-4457-997c-03936236fbed",
   "metadata": {},
   "outputs": [
    {
     "data": {
      "text/plain": [
       "{0: [(1.0, 368, -1, False)],\n",
       " 1: [(1.0, 168, -1, False)],\n",
       " 2: [(1.0, 288, -1, False)],\n",
       " 3: [(1.0, 248, -1, False)],\n",
       " 4: [(1.0, 268, -10, False)],\n",
       " 5: [(1.0, 268, -10, False)]}"
      ]
     },
     "execution_count": 4,
     "metadata": {},
     "output_type": "execute_result"
    }
   ],
   "source": [
    "streets.s = initial_state\n",
    "streets.P[initial_state]"
   ]
  },
  {
   "cell_type": "code",
   "execution_count": 5,
   "id": "0da3c733-c87b-4052-b3e6-3605d3668a28",
   "metadata": {},
   "outputs": [],
   "source": [
    "q_table = np.zeros([streets.observation_space.n, streets.action_space.n])"
   ]
  },
  {
   "cell_type": "code",
   "execution_count": 6,
   "id": "49995c45-3995-4f8a-88e8-86be1e22d77d",
   "metadata": {},
   "outputs": [
    {
     "name": "stdout",
     "output_type": "stream",
     "text": [
      "Trip Number0\n",
      "+---------+\n",
      "|R: | : :\u001b[35mG\u001b[0m|\n",
      "| : | : : |\n",
      "| : : : : |\n",
      "| | : |\u001b[43m \u001b[0m: |\n",
      "|Y| : |\u001b[34;1mB\u001b[0m: |\n",
      "+---------+\n",
      "  (West)\n",
      "\n"
     ]
    },
    {
     "ename": "KeyboardInterrupt",
     "evalue": "",
     "output_type": "error",
     "traceback": [
      "\u001b[1;31m---------------------------------------------------------------------------\u001b[0m",
      "\u001b[1;31mKeyboardInterrupt\u001b[0m                         Traceback (most recent call last)",
      "Cell \u001b[1;32mIn[6], line 26\u001b[0m\n\u001b[0;32m     24\u001b[0m         \u001b[38;5;28mprint\u001b[39m(\u001b[38;5;124m'\u001b[39m\u001b[38;5;124mTrip Number\u001b[39m\u001b[38;5;124m'\u001b[39m \u001b[38;5;241m+\u001b[39m \u001b[38;5;28mstr\u001b[39m(tripnum))\n\u001b[0;32m     25\u001b[0m         \u001b[38;5;28mprint\u001b[39m(streets\u001b[38;5;241m.\u001b[39mrender(mode \u001b[38;5;241m=\u001b[39m \u001b[38;5;124m'\u001b[39m\u001b[38;5;124mansi\u001b[39m\u001b[38;5;124m'\u001b[39m))\n\u001b[1;32m---> 26\u001b[0m         \u001b[43msleep\u001b[49m\u001b[43m(\u001b[49m\u001b[38;5;241;43m0.2\u001b[39;49m\u001b[43m)\u001b[49m\n\u001b[0;32m     27\u001b[0m         state \u001b[38;5;241m=\u001b[39m next_state\n\u001b[0;32m     30\u001b[0m q_table[initial_state]\n",
      "\u001b[1;31mKeyboardInterrupt\u001b[0m: "
     ]
    }
   ],
   "source": [
    "learning_rate = 0.1\n",
    "discount_factor = 0.6\n",
    "exploration = 0.1\n",
    "epochs = 10000\n",
    "streets.render()\n",
    "\n",
    "for tripnum in range(epochs):\n",
    "    state = streets.reset()\n",
    "    done = False\n",
    "\n",
    "    while not done:\n",
    "        random_value = random.uniform(0,1)\n",
    "        if random_value < exploration:\n",
    "            action = streets.action_space.sample()\n",
    "        else:\n",
    "            action = np.argmax(q_table[state])\n",
    "\n",
    "        next_state,reward,done, info = streets.step(action)\n",
    "        clear_output(wait=True)\n",
    "        prev_q = q_table[state,action]\n",
    "        next_max_q = np.max(q_table[next_state])\n",
    "        new_q = (1 - learning_rate) * prev_q + learning_rate * (reward + discount_factor * next_max_q)\n",
    "        q_table[state, action] = new_q\n",
    "        print('Trip Number' + str(tripnum))\n",
    "        print(streets.render(mode = 'ansi'))\n",
    "        sleep(0.2)\n",
    "        state = next_state\n",
    "\n",
    "\n",
    "q_table[initial_state]"
   ]
  },
  {
   "cell_type": "code",
   "execution_count": null,
   "id": "da6d3054-653b-4cd8-9b7c-dadc1c1290c0",
   "metadata": {},
   "outputs": [],
   "source": []
  }
 ],
 "metadata": {
  "kernelspec": {
   "display_name": "Python 3 (ipykernel)",
   "language": "python",
   "name": "python3"
  },
  "language_info": {
   "codemirror_mode": {
    "name": "ipython",
    "version": 3
   },
   "file_extension": ".py",
   "mimetype": "text/x-python",
   "name": "python",
   "nbconvert_exporter": "python",
   "pygments_lexer": "ipython3",
   "version": "3.8.8"
  }
 },
 "nbformat": 4,
 "nbformat_minor": 5
}
